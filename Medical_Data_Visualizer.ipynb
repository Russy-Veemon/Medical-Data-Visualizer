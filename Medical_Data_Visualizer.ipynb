{
  "nbformat": 4,
  "nbformat_minor": 0,
  "metadata": {
    "colab": {
      "provenance": [],
      "authorship_tag": "ABX9TyP3nwTMZjWzWl6xMfkPY3qf",
      "include_colab_link": true
    },
    "kernelspec": {
      "name": "python3",
      "display_name": "Python 3"
    },
    "language_info": {
      "name": "python"
    }
  },
  "cells": [
    {
      "cell_type": "markdown",
      "metadata": {
        "id": "view-in-github",
        "colab_type": "text"
      },
      "source": [
        "<a href=\"https://colab.research.google.com/github/Russy-Veemon/Medical-Data-Visualizer/blob/main/Medical_Data_Visualizer.ipynb\" target=\"_parent\"><img src=\"https://colab.research.google.com/assets/colab-badge.svg\" alt=\"Open In Colab\"/></a>"
      ]
    },
    {
      "cell_type": "code",
      "execution_count": 1,
      "metadata": {
        "id": "bCbGgOp3e2GY"
      },
      "outputs": [],
      "source": [
        "import pandas as pd\n",
        "import numpy as np\n",
        "import csv\n",
        "import matplotlib.pyplot as plt\n",
        "\n",
        "%matplotlib inline"
      ]
    },
    {
      "cell_type": "code",
      "source": [
        "me = pd.read_csv('medical_examination.csv')\n",
        "\n",
        "me['overweight'] = me['weight']/((me['height']/100)**2)\n",
        "me['overweight'] = me['overweight'].apply(lambda x: 1 if x >= 25 else 0)\n",
        "me['cholesterol'] = me['cholesterol'].apply(lambda x: 1 if x > 1 else 0)\n",
        "me['gluc'] = me['gluc'].apply(lambda x: 1 if x > 1 else 0)\n",
        "\n",
        "print(me)"
      ],
      "metadata": {
        "colab": {
          "base_uri": "https://localhost:8080/"
        },
        "id": "MeHC5h9xfG8o",
        "outputId": "8a9f36db-94e5-4378-cd47-ee12821f1fa7"
      },
      "execution_count": 29,
      "outputs": [
        {
          "output_type": "stream",
          "name": "stdout",
          "text": [
            "          id    age  sex  height  weight  ap_hi  ap_lo  cholesterol  gluc  \\\n",
            "0          0  18393    2     168    62.0    110     80            0     0   \n",
            "1          1  20228    1     156    85.0    140     90            1     0   \n",
            "2          2  18857    1     165    64.0    130     70            1     0   \n",
            "3          3  17623    2     169    82.0    150    100            0     0   \n",
            "4          4  17474    1     156    56.0    100     60            0     0   \n",
            "...      ...    ...  ...     ...     ...    ...    ...          ...   ...   \n",
            "69995  99993  19240    2     168    76.0    120     80            0     0   \n",
            "69996  99995  22601    1     158   126.0    140     90            1     1   \n",
            "69997  99996  19066    2     183   105.0    180     90            1     0   \n",
            "69998  99998  22431    1     163    72.0    135     80            0     1   \n",
            "69999  99999  20540    1     170    72.0    120     80            1     0   \n",
            "\n",
            "       smoke  alco  active  cardio  overweight  \n",
            "0          0     0       1       0           0  \n",
            "1          0     0       1       1           1  \n",
            "2          0     0       0       1           0  \n",
            "3          0     0       1       1           1  \n",
            "4          0     0       0       0           0  \n",
            "...      ...   ...     ...     ...         ...  \n",
            "69995      1     0       1       0           1  \n",
            "69996      0     0       1       1           1  \n",
            "69997      0     1       0       1           1  \n",
            "69998      0     0       0       1           1  \n",
            "69999      0     0       1       0           0  \n",
            "\n",
            "[70000 rows x 14 columns]\n"
          ]
        }
      ]
    },
    {
      "cell_type": "code",
      "source": [],
      "metadata": {
        "id": "vB3DwnvvDAtf"
      },
      "execution_count": 13,
      "outputs": []
    },
    {
      "cell_type": "code",
      "source": [
        "# Clean the data first, then create the graph, cholesterol and glucose are on a 3 number grading scale, normalize it to a 0 or 1 scale using python\n",
        "\n",
        "# # import pandas as pd\n",
        "\n",
        "# # # me = pd.read_csv('medical_examination.csv')\n",
        "# # # print(me.columns)\n",
        "\n",
        "# # # cholesterol, gluc, alco, active, and smoke\n",
        "# # # Read the CSV file into a pandas dataframe\n",
        "# # me = pd.read_csv('medical_examination.csv')\n",
        "\n",
        "# # #calculate the counts for each column\n",
        "# # counts = me['cholesterol'].value_counts()\n",
        "\n",
        "# # colors = ['blue', 'orange', 'green']  # set colors for each bar\n",
        "\n",
        "# # #create a bar chart using matplotlib\n",
        "# # plt.bar(counts.index, counts.values, color=colors)\n",
        "# # plt.xticks(counts.index, ['Not overweight', 'Overweight', 'Obesity'])  # set labels for each bar\n",
        "# # plt.xlabel('Weight Category')\n",
        "# # plt.ylabel('Number of People')\n",
        "# # plt.title('Distribution of Weight Categories')\n",
        "# # plt.show()"
      ],
      "metadata": {
        "id": "T8XT-5n8t2I_"
      },
      "execution_count": null,
      "outputs": []
    }
  ]
}